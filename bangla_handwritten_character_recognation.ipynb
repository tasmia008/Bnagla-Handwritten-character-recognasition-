{
  "nbformat": 4,
  "nbformat_minor": 0,
  "metadata": {
    "colab": {
      "provenance": [],
      "include_colab_link": true
    },
    "kernelspec": {
      "name": "python3",
      "display_name": "Python 3"
    },
    "language_info": {
      "name": "python"
    },
    "accelerator": "GPU",
    "gpuClass": "standard",
    "widgets": {
      "application/vnd.jupyter.widget-state+json": {
        "164b7c9785aa470a9798e17d42e6bfef": {
          "model_module": "@jupyter-widgets/controls",
          "model_name": "HBoxModel",
          "model_module_version": "1.5.0",
          "state": {
            "_dom_classes": [],
            "_model_module": "@jupyter-widgets/controls",
            "_model_module_version": "1.5.0",
            "_model_name": "HBoxModel",
            "_view_count": null,
            "_view_module": "@jupyter-widgets/controls",
            "_view_module_version": "1.5.0",
            "_view_name": "HBoxView",
            "box_style": "",
            "children": [
              "IPY_MODEL_b166f718df744ee3a5e721551c56bd57",
              "IPY_MODEL_7590bf2dc28e4a719afdf703a6cc6ef2",
              "IPY_MODEL_85183a91741e416a82cff607bfdae880"
            ],
            "layout": "IPY_MODEL_34cf3ca1f8fb4fefa8a3587c6c5434a6"
          }
        },
        "b166f718df744ee3a5e721551c56bd57": {
          "model_module": "@jupyter-widgets/controls",
          "model_name": "HTMLModel",
          "model_module_version": "1.5.0",
          "state": {
            "_dom_classes": [],
            "_model_module": "@jupyter-widgets/controls",
            "_model_module_version": "1.5.0",
            "_model_name": "HTMLModel",
            "_view_count": null,
            "_view_module": "@jupyter-widgets/controls",
            "_view_module_version": "1.5.0",
            "_view_name": "HTMLView",
            "description": "",
            "description_tooltip": null,
            "layout": "IPY_MODEL_3de33adbd01e4b01bf3112fa36f72c1e",
            "placeholder": "​",
            "style": "IPY_MODEL_cddb146dc69b4f018da68696254a0136",
            "value": "100%"
          }
        },
        "7590bf2dc28e4a719afdf703a6cc6ef2": {
          "model_module": "@jupyter-widgets/controls",
          "model_name": "FloatProgressModel",
          "model_module_version": "1.5.0",
          "state": {
            "_dom_classes": [],
            "_model_module": "@jupyter-widgets/controls",
            "_model_module_version": "1.5.0",
            "_model_name": "FloatProgressModel",
            "_view_count": null,
            "_view_module": "@jupyter-widgets/controls",
            "_view_module_version": "1.5.0",
            "_view_name": "ProgressView",
            "bar_style": "",
            "description": "",
            "description_tooltip": null,
            "layout": "IPY_MODEL_a3adfd099cf142f78f98ccdc21137239",
            "max": 95310,
            "min": 0,
            "orientation": "horizontal",
            "style": "IPY_MODEL_45cb8995334844f3b786d2cc1b816bd9",
            "value": 95310
          }
        },
        "85183a91741e416a82cff607bfdae880": {
          "model_module": "@jupyter-widgets/controls",
          "model_name": "HTMLModel",
          "model_module_version": "1.5.0",
          "state": {
            "_dom_classes": [],
            "_model_module": "@jupyter-widgets/controls",
            "_model_module_version": "1.5.0",
            "_model_name": "HTMLModel",
            "_view_count": null,
            "_view_module": "@jupyter-widgets/controls",
            "_view_module_version": "1.5.0",
            "_view_name": "HTMLView",
            "description": "",
            "description_tooltip": null,
            "layout": "IPY_MODEL_367f9884224443c886d6211b20de2cfc",
            "placeholder": "​",
            "style": "IPY_MODEL_d6aafef468eb48d1ba60875ba307162a",
            "value": " 95310/95310 [51:34&lt;00:00, 30.34it/s]"
          }
        },
        "34cf3ca1f8fb4fefa8a3587c6c5434a6": {
          "model_module": "@jupyter-widgets/base",
          "model_name": "LayoutModel",
          "model_module_version": "1.2.0",
          "state": {
            "_model_module": "@jupyter-widgets/base",
            "_model_module_version": "1.2.0",
            "_model_name": "LayoutModel",
            "_view_count": null,
            "_view_module": "@jupyter-widgets/base",
            "_view_module_version": "1.2.0",
            "_view_name": "LayoutView",
            "align_content": null,
            "align_items": null,
            "align_self": null,
            "border": null,
            "bottom": null,
            "display": null,
            "flex": null,
            "flex_flow": null,
            "grid_area": null,
            "grid_auto_columns": null,
            "grid_auto_flow": null,
            "grid_auto_rows": null,
            "grid_column": null,
            "grid_gap": null,
            "grid_row": null,
            "grid_template_areas": null,
            "grid_template_columns": null,
            "grid_template_rows": null,
            "height": null,
            "justify_content": null,
            "justify_items": null,
            "left": null,
            "margin": null,
            "max_height": null,
            "max_width": null,
            "min_height": null,
            "min_width": null,
            "object_fit": null,
            "object_position": null,
            "order": null,
            "overflow": null,
            "overflow_x": null,
            "overflow_y": null,
            "padding": null,
            "right": null,
            "top": null,
            "visibility": null,
            "width": null
          }
        },
        "3de33adbd01e4b01bf3112fa36f72c1e": {
          "model_module": "@jupyter-widgets/base",
          "model_name": "LayoutModel",
          "model_module_version": "1.2.0",
          "state": {
            "_model_module": "@jupyter-widgets/base",
            "_model_module_version": "1.2.0",
            "_model_name": "LayoutModel",
            "_view_count": null,
            "_view_module": "@jupyter-widgets/base",
            "_view_module_version": "1.2.0",
            "_view_name": "LayoutView",
            "align_content": null,
            "align_items": null,
            "align_self": null,
            "border": null,
            "bottom": null,
            "display": null,
            "flex": null,
            "flex_flow": null,
            "grid_area": null,
            "grid_auto_columns": null,
            "grid_auto_flow": null,
            "grid_auto_rows": null,
            "grid_column": null,
            "grid_gap": null,
            "grid_row": null,
            "grid_template_areas": null,
            "grid_template_columns": null,
            "grid_template_rows": null,
            "height": null,
            "justify_content": null,
            "justify_items": null,
            "left": null,
            "margin": null,
            "max_height": null,
            "max_width": null,
            "min_height": null,
            "min_width": null,
            "object_fit": null,
            "object_position": null,
            "order": null,
            "overflow": null,
            "overflow_x": null,
            "overflow_y": null,
            "padding": null,
            "right": null,
            "top": null,
            "visibility": null,
            "width": null
          }
        },
        "cddb146dc69b4f018da68696254a0136": {
          "model_module": "@jupyter-widgets/controls",
          "model_name": "DescriptionStyleModel",
          "model_module_version": "1.5.0",
          "state": {
            "_model_module": "@jupyter-widgets/controls",
            "_model_module_version": "1.5.0",
            "_model_name": "DescriptionStyleModel",
            "_view_count": null,
            "_view_module": "@jupyter-widgets/base",
            "_view_module_version": "1.2.0",
            "_view_name": "StyleView",
            "description_width": ""
          }
        },
        "a3adfd099cf142f78f98ccdc21137239": {
          "model_module": "@jupyter-widgets/base",
          "model_name": "LayoutModel",
          "model_module_version": "1.2.0",
          "state": {
            "_model_module": "@jupyter-widgets/base",
            "_model_module_version": "1.2.0",
            "_model_name": "LayoutModel",
            "_view_count": null,
            "_view_module": "@jupyter-widgets/base",
            "_view_module_version": "1.2.0",
            "_view_name": "LayoutView",
            "align_content": null,
            "align_items": null,
            "align_self": null,
            "border": null,
            "bottom": null,
            "display": null,
            "flex": null,
            "flex_flow": null,
            "grid_area": null,
            "grid_auto_columns": null,
            "grid_auto_flow": null,
            "grid_auto_rows": null,
            "grid_column": null,
            "grid_gap": null,
            "grid_row": null,
            "grid_template_areas": null,
            "grid_template_columns": null,
            "grid_template_rows": null,
            "height": null,
            "justify_content": null,
            "justify_items": null,
            "left": null,
            "margin": null,
            "max_height": null,
            "max_width": null,
            "min_height": null,
            "min_width": null,
            "object_fit": null,
            "object_position": null,
            "order": null,
            "overflow": null,
            "overflow_x": null,
            "overflow_y": null,
            "padding": null,
            "right": null,
            "top": null,
            "visibility": null,
            "width": null
          }
        },
        "45cb8995334844f3b786d2cc1b816bd9": {
          "model_module": "@jupyter-widgets/controls",
          "model_name": "ProgressStyleModel",
          "model_module_version": "1.5.0",
          "state": {
            "_model_module": "@jupyter-widgets/controls",
            "_model_module_version": "1.5.0",
            "_model_name": "ProgressStyleModel",
            "_view_count": null,
            "_view_module": "@jupyter-widgets/base",
            "_view_module_version": "1.2.0",
            "_view_name": "StyleView",
            "bar_color": null,
            "description_width": ""
          }
        },
        "367f9884224443c886d6211b20de2cfc": {
          "model_module": "@jupyter-widgets/base",
          "model_name": "LayoutModel",
          "model_module_version": "1.2.0",
          "state": {
            "_model_module": "@jupyter-widgets/base",
            "_model_module_version": "1.2.0",
            "_model_name": "LayoutModel",
            "_view_count": null,
            "_view_module": "@jupyter-widgets/base",
            "_view_module_version": "1.2.0",
            "_view_name": "LayoutView",
            "align_content": null,
            "align_items": null,
            "align_self": null,
            "border": null,
            "bottom": null,
            "display": null,
            "flex": null,
            "flex_flow": null,
            "grid_area": null,
            "grid_auto_columns": null,
            "grid_auto_flow": null,
            "grid_auto_rows": null,
            "grid_column": null,
            "grid_gap": null,
            "grid_row": null,
            "grid_template_areas": null,
            "grid_template_columns": null,
            "grid_template_rows": null,
            "height": null,
            "justify_content": null,
            "justify_items": null,
            "left": null,
            "margin": null,
            "max_height": null,
            "max_width": null,
            "min_height": null,
            "min_width": null,
            "object_fit": null,
            "object_position": null,
            "order": null,
            "overflow": null,
            "overflow_x": null,
            "overflow_y": null,
            "padding": null,
            "right": null,
            "top": null,
            "visibility": null,
            "width": null
          }
        },
        "d6aafef468eb48d1ba60875ba307162a": {
          "model_module": "@jupyter-widgets/controls",
          "model_name": "DescriptionStyleModel",
          "model_module_version": "1.5.0",
          "state": {
            "_model_module": "@jupyter-widgets/controls",
            "_model_module_version": "1.5.0",
            "_model_name": "DescriptionStyleModel",
            "_view_count": null,
            "_view_module": "@jupyter-widgets/base",
            "_view_module_version": "1.2.0",
            "_view_name": "StyleView",
            "description_width": ""
          }
        },
        "50796e37edf242c9a1e5578882b1b6f6": {
          "model_module": "@jupyter-widgets/controls",
          "model_name": "HBoxModel",
          "model_module_version": "1.5.0",
          "state": {
            "_dom_classes": [],
            "_model_module": "@jupyter-widgets/controls",
            "_model_module_version": "1.5.0",
            "_model_name": "HBoxModel",
            "_view_count": null,
            "_view_module": "@jupyter-widgets/controls",
            "_view_module_version": "1.5.0",
            "_view_name": "HBoxView",
            "box_style": "",
            "children": [
              "IPY_MODEL_c0bae74ca470494d848f385005b289c3",
              "IPY_MODEL_53e23ba335a7487aa3aeab324a651318",
              "IPY_MODEL_066810c5046e496b80e6fda3ec23266a"
            ],
            "layout": "IPY_MODEL_2b46e98287964d4aa5f6d6264b73f77a"
          }
        },
        "c0bae74ca470494d848f385005b289c3": {
          "model_module": "@jupyter-widgets/controls",
          "model_name": "HTMLModel",
          "model_module_version": "1.5.0",
          "state": {
            "_dom_classes": [],
            "_model_module": "@jupyter-widgets/controls",
            "_model_module_version": "1.5.0",
            "_model_name": "HTMLModel",
            "_view_count": null,
            "_view_module": "@jupyter-widgets/controls",
            "_view_module_version": "1.5.0",
            "_view_name": "HTMLView",
            "description": "",
            "description_tooltip": null,
            "layout": "IPY_MODEL_b94f33dbab374d8c9d1fb4a71e960ef0",
            "placeholder": "​",
            "style": "IPY_MODEL_f8975bd45e0c4472affca95c9b286da0",
            "value": "100%"
          }
        },
        "53e23ba335a7487aa3aeab324a651318": {
          "model_module": "@jupyter-widgets/controls",
          "model_name": "FloatProgressModel",
          "model_module_version": "1.5.0",
          "state": {
            "_dom_classes": [],
            "_model_module": "@jupyter-widgets/controls",
            "_model_module_version": "1.5.0",
            "_model_name": "FloatProgressModel",
            "_view_count": null,
            "_view_module": "@jupyter-widgets/controls",
            "_view_module_version": "1.5.0",
            "_view_name": "ProgressView",
            "bar_style": "",
            "description": "",
            "description_tooltip": null,
            "layout": "IPY_MODEL_2f659fbd48fb4fc99d9d4875b615fe93",
            "max": 20424,
            "min": 0,
            "orientation": "horizontal",
            "style": "IPY_MODEL_648f9063a10f480fbfe116b1753831b6",
            "value": 20424
          }
        },
        "066810c5046e496b80e6fda3ec23266a": {
          "model_module": "@jupyter-widgets/controls",
          "model_name": "HTMLModel",
          "model_module_version": "1.5.0",
          "state": {
            "_dom_classes": [],
            "_model_module": "@jupyter-widgets/controls",
            "_model_module_version": "1.5.0",
            "_model_name": "HTMLModel",
            "_view_count": null,
            "_view_module": "@jupyter-widgets/controls",
            "_view_module_version": "1.5.0",
            "_view_name": "HTMLView",
            "description": "",
            "description_tooltip": null,
            "layout": "IPY_MODEL_dc773984613f4353a82fec777620af64",
            "placeholder": "​",
            "style": "IPY_MODEL_50c3d730cf934629932b6aa4d6c4c29b",
            "value": " 20424/20424 [53:14&lt;00:00, 67.35it/s]"
          }
        },
        "2b46e98287964d4aa5f6d6264b73f77a": {
          "model_module": "@jupyter-widgets/base",
          "model_name": "LayoutModel",
          "model_module_version": "1.2.0",
          "state": {
            "_model_module": "@jupyter-widgets/base",
            "_model_module_version": "1.2.0",
            "_model_name": "LayoutModel",
            "_view_count": null,
            "_view_module": "@jupyter-widgets/base",
            "_view_module_version": "1.2.0",
            "_view_name": "LayoutView",
            "align_content": null,
            "align_items": null,
            "align_self": null,
            "border": null,
            "bottom": null,
            "display": null,
            "flex": null,
            "flex_flow": null,
            "grid_area": null,
            "grid_auto_columns": null,
            "grid_auto_flow": null,
            "grid_auto_rows": null,
            "grid_column": null,
            "grid_gap": null,
            "grid_row": null,
            "grid_template_areas": null,
            "grid_template_columns": null,
            "grid_template_rows": null,
            "height": null,
            "justify_content": null,
            "justify_items": null,
            "left": null,
            "margin": null,
            "max_height": null,
            "max_width": null,
            "min_height": null,
            "min_width": null,
            "object_fit": null,
            "object_position": null,
            "order": null,
            "overflow": null,
            "overflow_x": null,
            "overflow_y": null,
            "padding": null,
            "right": null,
            "top": null,
            "visibility": null,
            "width": null
          }
        },
        "b94f33dbab374d8c9d1fb4a71e960ef0": {
          "model_module": "@jupyter-widgets/base",
          "model_name": "LayoutModel",
          "model_module_version": "1.2.0",
          "state": {
            "_model_module": "@jupyter-widgets/base",
            "_model_module_version": "1.2.0",
            "_model_name": "LayoutModel",
            "_view_count": null,
            "_view_module": "@jupyter-widgets/base",
            "_view_module_version": "1.2.0",
            "_view_name": "LayoutView",
            "align_content": null,
            "align_items": null,
            "align_self": null,
            "border": null,
            "bottom": null,
            "display": null,
            "flex": null,
            "flex_flow": null,
            "grid_area": null,
            "grid_auto_columns": null,
            "grid_auto_flow": null,
            "grid_auto_rows": null,
            "grid_column": null,
            "grid_gap": null,
            "grid_row": null,
            "grid_template_areas": null,
            "grid_template_columns": null,
            "grid_template_rows": null,
            "height": null,
            "justify_content": null,
            "justify_items": null,
            "left": null,
            "margin": null,
            "max_height": null,
            "max_width": null,
            "min_height": null,
            "min_width": null,
            "object_fit": null,
            "object_position": null,
            "order": null,
            "overflow": null,
            "overflow_x": null,
            "overflow_y": null,
            "padding": null,
            "right": null,
            "top": null,
            "visibility": null,
            "width": null
          }
        },
        "f8975bd45e0c4472affca95c9b286da0": {
          "model_module": "@jupyter-widgets/controls",
          "model_name": "DescriptionStyleModel",
          "model_module_version": "1.5.0",
          "state": {
            "_model_module": "@jupyter-widgets/controls",
            "_model_module_version": "1.5.0",
            "_model_name": "DescriptionStyleModel",
            "_view_count": null,
            "_view_module": "@jupyter-widgets/base",
            "_view_module_version": "1.2.0",
            "_view_name": "StyleView",
            "description_width": ""
          }
        },
        "2f659fbd48fb4fc99d9d4875b615fe93": {
          "model_module": "@jupyter-widgets/base",
          "model_name": "LayoutModel",
          "model_module_version": "1.2.0",
          "state": {
            "_model_module": "@jupyter-widgets/base",
            "_model_module_version": "1.2.0",
            "_model_name": "LayoutModel",
            "_view_count": null,
            "_view_module": "@jupyter-widgets/base",
            "_view_module_version": "1.2.0",
            "_view_name": "LayoutView",
            "align_content": null,
            "align_items": null,
            "align_self": null,
            "border": null,
            "bottom": null,
            "display": null,
            "flex": null,
            "flex_flow": null,
            "grid_area": null,
            "grid_auto_columns": null,
            "grid_auto_flow": null,
            "grid_auto_rows": null,
            "grid_column": null,
            "grid_gap": null,
            "grid_row": null,
            "grid_template_areas": null,
            "grid_template_columns": null,
            "grid_template_rows": null,
            "height": null,
            "justify_content": null,
            "justify_items": null,
            "left": null,
            "margin": null,
            "max_height": null,
            "max_width": null,
            "min_height": null,
            "min_width": null,
            "object_fit": null,
            "object_position": null,
            "order": null,
            "overflow": null,
            "overflow_x": null,
            "overflow_y": null,
            "padding": null,
            "right": null,
            "top": null,
            "visibility": null,
            "width": null
          }
        },
        "648f9063a10f480fbfe116b1753831b6": {
          "model_module": "@jupyter-widgets/controls",
          "model_name": "ProgressStyleModel",
          "model_module_version": "1.5.0",
          "state": {
            "_model_module": "@jupyter-widgets/controls",
            "_model_module_version": "1.5.0",
            "_model_name": "ProgressStyleModel",
            "_view_count": null,
            "_view_module": "@jupyter-widgets/base",
            "_view_module_version": "1.2.0",
            "_view_name": "StyleView",
            "bar_color": null,
            "description_width": ""
          }
        },
        "dc773984613f4353a82fec777620af64": {
          "model_module": "@jupyter-widgets/base",
          "model_name": "LayoutModel",
          "model_module_version": "1.2.0",
          "state": {
            "_model_module": "@jupyter-widgets/base",
            "_model_module_version": "1.2.0",
            "_model_name": "LayoutModel",
            "_view_count": null,
            "_view_module": "@jupyter-widgets/base",
            "_view_module_version": "1.2.0",
            "_view_name": "LayoutView",
            "align_content": null,
            "align_items": null,
            "align_self": null,
            "border": null,
            "bottom": null,
            "display": null,
            "flex": null,
            "flex_flow": null,
            "grid_area": null,
            "grid_auto_columns": null,
            "grid_auto_flow": null,
            "grid_auto_rows": null,
            "grid_column": null,
            "grid_gap": null,
            "grid_row": null,
            "grid_template_areas": null,
            "grid_template_columns": null,
            "grid_template_rows": null,
            "height": null,
            "justify_content": null,
            "justify_items": null,
            "left": null,
            "margin": null,
            "max_height": null,
            "max_width": null,
            "min_height": null,
            "min_width": null,
            "object_fit": null,
            "object_position": null,
            "order": null,
            "overflow": null,
            "overflow_x": null,
            "overflow_y": null,
            "padding": null,
            "right": null,
            "top": null,
            "visibility": null,
            "width": null
          }
        },
        "50c3d730cf934629932b6aa4d6c4c29b": {
          "model_module": "@jupyter-widgets/controls",
          "model_name": "DescriptionStyleModel",
          "model_module_version": "1.5.0",
          "state": {
            "_model_module": "@jupyter-widgets/controls",
            "_model_module_version": "1.5.0",
            "_model_name": "DescriptionStyleModel",
            "_view_count": null,
            "_view_module": "@jupyter-widgets/base",
            "_view_module_version": "1.2.0",
            "_view_name": "StyleView",
            "description_width": ""
          }
        }
      }
    }
  },
  "cells": [
    {
      "cell_type": "markdown",
      "metadata": {
        "id": "view-in-github",
        "colab_type": "text"
      },
      "source": [
        "<a href=\"https://colab.research.google.com/github/tasmia008/Bnagla-Handwritten-character-recognasition-/blob/main/bangla_handwritten_character_recognation.ipynb\" target=\"_parent\"><img src=\"https://colab.research.google.com/assets/colab-badge.svg\" alt=\"Open In Colab\"/></a>"
      ]
    },
    {
      "cell_type": "code",
      "source": [
        "from google.colab import drive\n",
        "drive.mount('/content/gdrive')"
      ],
      "metadata": {
        "colab": {
          "base_uri": "https://localhost:8080/"
        },
        "id": "JfW2qTwJU-r-",
        "outputId": "a2ed5fa6-160a-40c9-eec7-fbc57e6d3b21"
      },
      "execution_count": null,
      "outputs": [
        {
          "output_type": "stream",
          "name": "stdout",
          "text": [
            "Drive already mounted at /content/gdrive; to attempt to forcibly remount, call drive.mount(\"/content/gdrive\", force_remount=True).\n"
          ]
        }
      ]
    },
    {
      "cell_type": "code",
      "source": [
        "!cp /content/gdrive/MyDrive/combine_data.zip ./"
      ],
      "metadata": {
        "id": "x5u0vpPYnOVC"
      },
      "execution_count": null,
      "outputs": []
    },
    {
      "cell_type": "code",
      "source": [
        "#!cp /content/gdrive/MyDrive/labeledFileList_update.csv ./"
      ],
      "metadata": {
        "id": "0qbnSidRqXcW"
      },
      "execution_count": null,
      "outputs": []
    },
    {
      "cell_type": "code",
      "source": [
        "!unzip combine_data.zip"
      ],
      "metadata": {
        "colab": {
          "base_uri": "https://localhost:8080/"
        },
        "id": "C8g5rNkqnoaH",
        "outputId": "e30a334e-43f9-4cf0-8278-76a9c1fb7e59"
      },
      "execution_count": null,
      "outputs": [
        {
          "output_type": "stream",
          "name": "stdout",
          "text": [
            "Archive:  combine_data.zip\n",
            "warning [combine_data.zip]:  76 extra bytes at beginning or within zipfile\n",
            "  (attempting to process anyway)\n",
            "error [combine_data.zip]:  reported length of central directory is\n",
            "  -76 bytes too long (Atari STZip zipfile?  J.H.Holm ZIPSPLIT 1.1\n",
            "  zipfile?).  Compensating...\n",
            "replace combine_data/0/0_18_kis_2_361.jpg? [y]es, [n]o, [A]ll, [N]one, [r]ename: "
          ]
        }
      ]
    },
    {
      "cell_type": "code",
      "source": [
        "import os\n",
        "from pathlib import Path\n",
        "\n",
        "basefolderName = 'combine_data'\n",
        "fd = open('labeledFileList.csv', 'w')\n",
        "fd.write('image')\n",
        "fd.write(',')\n",
        "fd.write('label')\n",
        "fd.write('\\n')\n",
        "for i in range(0,120):\n",
        "    folderName  = str(basefolderName) + '/' + str(i)+ '/'\n",
        "    folderPath = Path(folderName)\n",
        "   # print(folderPath.name) \n",
        "    for filePath in folderPath.glob('*.jpg'):\n",
        "        fileName = filePath\n",
        "        folderName = filePath.parent.name\n",
        "        fd.write(fileName.__str__())\n",
        "        fd.write(',')\n",
        "        fd.write(folderName)\n",
        "        fd.write('\\n')\n",
        "        #print('fileName: '+ fileName.__str__()+  ' label '+folderName)\n",
        "        #print('filePath:', filePath)\n",
        "        "
      ],
      "metadata": {
        "id": "P2YihDGBxG92"
      },
      "execution_count": null,
      "outputs": []
    },
    {
      "cell_type": "code",
      "source": [
        "#!wget -P<content/drive/MyDrive/male.tar.gz"
      ],
      "metadata": {
        "id": "R35L1PaiNOP5"
      },
      "execution_count": null,
      "outputs": []
    },
    {
      "cell_type": "markdown",
      "source": [
        "# Kaggle and dataset"
      ],
      "metadata": {
        "id": "M-EY445JVN1d"
      }
    },
    {
      "cell_type": "code",
      "source": [
        "! pip install kaggle"
      ],
      "metadata": {
        "id": "mCi-nXBjVNLO"
      },
      "execution_count": null,
      "outputs": []
    },
    {
      "cell_type": "code",
      "source": [
        "%cd /content"
      ],
      "metadata": {
        "id": "SnPqndw3X-N-"
      },
      "execution_count": null,
      "outputs": []
    },
    {
      "cell_type": "code",
      "source": [
        "!mkdir -p ~/.kaggle"
      ],
      "metadata": {
        "id": "lnyZfzlrVSpb"
      },
      "execution_count": null,
      "outputs": []
    },
    {
      "cell_type": "code",
      "source": [
        "!cp /content/kaggle.json ~/.kaggle/"
      ],
      "metadata": {
        "id": "Gvu_De8RVTzr"
      },
      "execution_count": null,
      "outputs": []
    },
    {
      "cell_type": "code",
      "source": [
        "! chmod 600 ~/.kaggle/kaggle.json"
      ],
      "metadata": {
        "id": "bpInM_mwVazM"
      },
      "execution_count": null,
      "outputs": []
    },
    {
      "cell_type": "code",
      "source": [],
      "metadata": {
        "id": "63lfb-3XVjWq"
      },
      "execution_count": null,
      "outputs": []
    },
    {
      "cell_type": "code",
      "source": [
        "#import tarfile \n",
        "#file =tarfile.open('male.tar.gz')\n",
        "#file.exractall('combine_data')"
      ],
      "metadata": {
        "id": "KBYiKhBwiT3u"
      },
      "execution_count": null,
      "outputs": []
    },
    {
      "cell_type": "code",
      "source": [
        "#!unzip ekush.zip # combine data"
      ],
      "metadata": {
        "id": "vE8HUszVVmDN"
      },
      "execution_count": null,
      "outputs": []
    },
    {
      "cell_type": "code",
      "source": [
        "#!wget https://drive.google.com/file/d/1C_Ye_YA3zkwW5kEUYUrAadSeJLObckYy/view?usp=share_link"
      ],
      "metadata": {
        "id": "ga03dwL4C0UP"
      },
      "execution_count": null,
      "outputs": []
    },
    {
      "cell_type": "markdown",
      "source": [
        "# Imports"
      ],
      "metadata": {
        "id": "s3isbdpHV2YN"
      }
    },
    {
      "cell_type": "code",
      "source": [
        "import pandas as pd\n",
        "import glob\n",
        "import csv\n",
        "import numpy as np\n",
        "from collections import Counter\n",
        "from PIL import Image\n",
        "import os\n",
        "import matplotlib.pyplot as plt\n",
        "from sklearn.model_selection import train_test_split\n",
        "import torch\n",
        "import torch.nn as nn\n",
        "import torchvision\n",
        "import torchvision.transforms as transforms\n",
        "import torchvision.datasets as dsets\n",
        "from sklearn.metrics import classification_report, confusion_matrix, precision_score,recall_score,f1_score\n",
        "import time\n",
        "import cv2\n",
        "import copy\n",
        "from tqdm.auto import tqdm\n",
        "import h5py\n",
        "import seaborn as sns"
      ],
      "metadata": {
        "id": "E0QzPyPQqKZv"
      },
      "execution_count": null,
      "outputs": []
    },
    {
      "cell_type": "code",
      "source": [
        "import os\n",
        "from os import path\n",
        "import shutil\n",
        "import numpy as np\n",
        "import pandas as pd\n",
        "\n",
        "#Import PyTorch\n",
        "import torch\n",
        "import torch.nn as nn\n",
        "import torch.nn.functional as F\n",
        "import torch.optim as optim\n",
        "from torch.utils.data import Dataset\n",
        "from torch.utils.data.sampler import SubsetRandomSampler\n",
        "from torchvision import datasets, transforms, models\n",
        "\n",
        "#Import Matplotlib\n",
        "import matplotlib\n",
        "import matplotlib.pyplot as plt\n",
        "from PIL import Image"
      ],
      "metadata": {
        "id": "HToHwyr-cqIf"
      },
      "execution_count": null,
      "outputs": []
    },
    {
      "cell_type": "code",
      "execution_count": null,
      "metadata": {
        "id": "_JXzem9mtP4z"
      },
      "outputs": [],
      "source": [
        "import matplotlib.pyplot as plt\n",
        "import tensorflow as tf\n",
        "import numpy as np\n",
        "import os\n",
        "import pandas as pd\n",
        "import tensorflow \n",
        "from tensorflow.python.keras.layers import Input, Dense\n",
        "from tensorflow import keras\n",
        "from tensorflow.keras.models import Sequential\n",
        "from tensorflow.keras.layers import Activation, Dense, Flatten, BatchNormalization, Conv2D, MaxPool2D\n",
        "from tensorflow.keras.optimizers import Adam\n",
        "from tensorflow.keras.metrics import categorical_crossentropy\n",
        "from tensorflow.keras.preprocessing.image import ImageDataGenerator\n",
        "from tensorflow.keras.optimizers import Adam, RMSprop\n",
        "from tensorflow.python.keras.models import Model, Sequential\n",
        "from tensorflow.python.keras.layers import Dense, Flatten, Dropout\n",
        "from tensorflow.keras.applications.resnet import ResNet50\n",
        "from torch.utils.data import Dataset\n",
        "from torchvision import datasets, transforms, models"
      ]
    },
    {
      "cell_type": "code",
      "source": [
        "import warnings\n",
        "warnings.filterwarnings('ignore')"
      ],
      "metadata": {
        "id": "XOQzDttYWI4Z"
      },
      "execution_count": null,
      "outputs": []
    },
    {
      "cell_type": "code",
      "source": [
        "!pip install --upgrade pip"
      ],
      "metadata": {
        "id": "kQPp6FG8A8JX"
      },
      "execution_count": null,
      "outputs": []
    },
    {
      "cell_type": "code",
      "source": [],
      "metadata": {
        "id": "k4KKNShkBfwA"
      },
      "execution_count": null,
      "outputs": []
    },
    {
      "cell_type": "code",
      "source": [
        "from tensorflow.keras import layers\n",
        "from tensorflow.keras import mixed_precision"
      ],
      "metadata": {
        "id": "dw5A5rWfBf6z"
      },
      "execution_count": null,
      "outputs": []
    },
    {
      "cell_type": "code",
      "source": [
        "import tensorflow as tf\n",
        "print(tf.__version__)\n"
      ],
      "metadata": {
        "id": "ntFKeDBwFoUK"
      },
      "execution_count": null,
      "outputs": []
    },
    {
      "cell_type": "code",
      "source": [
        "from tensorflow.keras import layers\n",
        "from tensorflow.keras import mixed_precision"
      ],
      "metadata": {
        "id": "7MRyxlsKKEzD"
      },
      "execution_count": null,
      "outputs": []
    },
    {
      "cell_type": "code",
      "source": [
        "policy = mixed_precision.Policy('mixed_float16')\n",
        "mixed_precision.set_global_policy(policy)\n",
        "print('Compute dtype: %s' % policy.compute_dtype)\n",
        "print('Variable dtype: %s' % policy.variable_dtype)"
      ],
      "metadata": {
        "id": "s5Nw_69XKaRl"
      },
      "execution_count": null,
      "outputs": []
    },
    {
      "cell_type": "code",
      "source": [
        "\n",
        "from sklearn.preprocessing import StandardScaler\n",
        "from sklearn.model_selection import train_test_split\n",
        "\n",
        "from sklearn import svm\n",
        "from sklearn.metrics import accuracy_score"
      ],
      "metadata": {
        "id": "0D73BBbagnvk"
      },
      "execution_count": null,
      "outputs": []
    },
    {
      "cell_type": "markdown",
      "source": [
        "# dataset"
      ],
      "metadata": {
        "id": "coabaPkyNZ5K"
      }
    },
    {
      "cell_type": "code",
      "source": [
        "PATH = '/content/'\n",
        "os.listdir(PATH)"
      ],
      "metadata": {
        "id": "5mKIy4nm64Fb"
      },
      "execution_count": null,
      "outputs": []
    },
    {
      "cell_type": "code",
      "source": [
        "\n",
        "\n",
        "# Set file path\n",
        "file_path = '/content/labeledFileList.csv'\n",
        "\n",
        "# Read file\n",
        "df = pd.read_csv(file_path)\n",
        "\n",
        "# Display file contents\n",
        "print(df.head())\n"
      ],
      "metadata": {
        "id": "VR7mcNfpGy0u"
      },
      "execution_count": null,
      "outputs": []
    },
    {
      "cell_type": "code",
      "source": [
        "def showRawTrainingSamples(csv_filename):\n",
        "  df = pd.read_csv(PATH + csv_filename)\n",
        "  print(csv_filename)\n",
        "  print(df.columns)\n",
        "  return df"
      ],
      "metadata": {
        "id": "z9O1BurJWwaD"
      },
      "execution_count": null,
      "outputs": []
    },
    {
      "cell_type": "code",
      "source": [
        "a_csv = showRawTrainingSamples('/labeledFileList.csv')"
      ],
      "metadata": {
        "id": "lWqpeYfsXRgr"
      },
      "execution_count": null,
      "outputs": []
    },
    {
      "cell_type": "code",
      "source": [
        "a_csv"
      ],
      "metadata": {
        "id": "HriuEBkNiIIo"
      },
      "execution_count": null,
      "outputs": []
    },
    {
      "cell_type": "code",
      "source": [
        "#a_csv.columns = [''] * len(a_csv.columns) # drop header columns \n",
        "#print(a_csv) \n"
      ],
      "metadata": {
        "id": "P5OW-WlBU5qp"
      },
      "execution_count": null,
      "outputs": []
    },
    {
      "cell_type": "code",
      "source": [
        "#a_csv.drop(a_csv.index[0])\n",
        "#print(a_csv)"
      ],
      "metadata": {
        "id": "x0Qb55aV5S5p"
      },
      "execution_count": null,
      "outputs": []
    },
    {
      "cell_type": "code",
      "source": [
        "a_csv_label = a_csv.loc[: ,'label']\n",
        "a_csv_label"
      ],
      "metadata": {
        "id": "BDF0PvbCSlzy"
      },
      "execution_count": null,
      "outputs": []
    },
    {
      "cell_type": "code",
      "source": [
        "a_csv_label = a_csv.loc[: ,'label']\n",
        "a_csv_label\n"
      ],
      "metadata": {
        "id": "GpG6z4yY_e8_"
      },
      "execution_count": null,
      "outputs": []
    },
    {
      "cell_type": "code",
      "source": [
        "def dropColumns(csv_file):\n",
        "  csv_file = csv_file[['image', 'label']]\n",
        "  print(csv_file.iloc[:5, :])   #First 5 Rows of the CSV File\n",
        "  print(\"=============================\")\n",
        "  return csv_file"
      ],
      "metadata": {
        "id": "PLwkejOKbi6q"
      },
      "execution_count": null,
      "outputs": []
    },
    {
      "cell_type": "code",
      "source": [
        "a_csv.head()"
      ],
      "metadata": {
        "id": "eyq1uMhgsYDp"
      },
      "execution_count": null,
      "outputs": []
    },
    {
      "cell_type": "code",
      "source": [
        "data_csv = dropColumns(a_csv)\n",
        "#data_csv=a_csv\n",
        "#print(data_csv.iloc[:5, :])  \n"
      ],
      "metadata": {
        "id": "oD3bu11xbkOC"
      },
      "execution_count": null,
      "outputs": []
    },
    {
      "cell_type": "code",
      "source": [
        "TRAIN_PATH = '/content'\n",
        "# train"
      ],
      "metadata": {
        "id": "K_phjPCWbnJc"
      },
      "execution_count": null,
      "outputs": []
    },
    {
      "cell_type": "code",
      "source": [
        "class Dataset(Dataset):\n",
        "    def __init__(self, df, root, transform=None):\n",
        "        self.data = df# amdr csv thkee crete kora df or code data_csv csv content direct orginal image ache\n",
        "        self.root = root # je dritory te fileache \n",
        "        self.transform = transform\n",
        "        \n",
        "    def __len__(self):\n",
        "        return len(self.data)\n",
        "    \n",
        "    def __getitem__(self, index):\n",
        "        item = self.data.iloc[index]\n",
        "        \n",
        "        path = self.root + \"/\" + item[0]\n",
        "        image = Image.open(path).convert('L')\n",
        "        label = item[1]\n",
        "        \n",
        "        if self.transform is not None:\n",
        "            image = self.transform(image)\n",
        "            \n",
        "        return image, label"
      ],
      "metadata": {
        "id": "GY0F99QUb00K"
      },
      "execution_count": null,
      "outputs": []
    },
    {
      "cell_type": "code",
      "source": [
        "dml = torch.device(\"cuda:0\" if torch.cuda.is_available() else \"cpu\")\n",
        "#dml=torch.device(\"cpu\")\n",
        "dml"
      ],
      "metadata": {
        "id": "3ZtmgD8sqXtI"
      },
      "execution_count": null,
      "outputs": []
    },
    {
      "cell_type": "code",
      "source": [
        "mean = [0.5,]\n",
        "std = [0.5, ]\n",
        "\n",
        "train_transform = transforms.Compose([\n",
        "    transforms.Resize((50,50)),\n",
        "    transforms.ToTensor(),\n",
        "    transforms.Normalize(mean, std)\n",
        "])\n",
        "\n",
        "dataset  = Dataset(data_csv, TRAIN_PATH, train_transform)\n",
        "print(data_csv)\n",
        "# print(dataset)\n",
        "# for i in dataset:\n",
        "#   print(i)\n",
        "print(\"Trainig Samples: \",len(dataset))"
      ],
      "metadata": {
        "id": "xyaML0w6cX9h"
      },
      "execution_count": null,
      "outputs": []
    },
    {
      "cell_type": "code",
      "source": [
        "img = dataset[131][0]\n",
        "plt.imshow(img[0,:,:],cmap='gray')\n",
        "print(dataset[131][1])"
      ],
      "metadata": {
        "id": "j8_Q6uw9a1-Q"
      },
      "execution_count": null,
      "outputs": []
    },
    {
      "cell_type": "code",
      "source": [],
      "metadata": {
        "id": "s9woYVcVpst3"
      },
      "execution_count": null,
      "outputs": []
    },
    {
      "cell_type": "code",
      "source": [
        "#dataset = df"
      ],
      "metadata": {
        "id": "8-W-WERwKbzs"
      },
      "execution_count": null,
      "outputs": []
    },
    {
      "cell_type": "code",
      "source": [
        "train_len = int(len(dataset)*.7)\n",
        "val_len = int(len(dataset)*.15)\n",
        "test_len = int(len(dataset)-train_len-val_len)"
      ],
      "metadata": {
        "id": "cxAD_Gjp4XQu"
      },
      "execution_count": null,
      "outputs": []
    },
    {
      "cell_type": "code",
      "source": [
        "print(train_len)\n",
        "print(val_len)\n",
        "print(test_len)\n",
        "train_len+val_len+test_len"
      ],
      "metadata": {
        "id": "2or_umza4pcD"
      },
      "execution_count": null,
      "outputs": []
    },
    {
      "cell_type": "code",
      "source": [
        "train,val,test= torch.utils.data.random_split(dataset, [train_len, val_len,test_len])"
      ],
      "metadata": {
        "id": "vTcGkzgd2xjU"
      },
      "execution_count": null,
      "outputs": []
    },
    {
      "cell_type": "code",
      "source": [
        "len(train)"
      ],
      "metadata": {
        "id": "X8XDWpzn39IC"
      },
      "execution_count": null,
      "outputs": []
    },
    {
      "cell_type": "code",
      "source": [
        "img = dataset[131][0]\n",
        "plt.imshow(img[0,:,:],cmap='gray')\n",
        "print(dataset[131][1])"
      ],
      "metadata": {
        "id": "vAtOWO3K8jba"
      },
      "execution_count": null,
      "outputs": []
    },
    {
      "cell_type": "code",
      "source": [
        "print(train[131][0])"
      ],
      "metadata": {
        "id": "Nl_eP8h-8uVH"
      },
      "execution_count": null,
      "outputs": []
    },
    {
      "cell_type": "code",
      "source": [
        "img = train[131][0]\n",
        "plt.imshow(img[0,:,:],cmap='gray')\n",
        "print(train[131][1])"
      ],
      "metadata": {
        "id": "YngV-izidWCn"
      },
      "execution_count": null,
      "outputs": []
    },
    {
      "cell_type": "code",
      "source": [
        "train_loader = torch.utils.data.DataLoader(dataset=train, batch_size=8, drop_last=True, shuffle=True)\n",
        "\n",
        "test_loader = torch.utils.data.DataLoader(dataset=test, batch_size=8, drop_last=True, shuffle=False)\n",
        "\n",
        "validation_loader = torch.utils.data.DataLoader(dataset=val, batch_size=8, drop_last=True, shuffle=False)"
      ],
      "metadata": {
        "id": "RzieJ1PFqvN9"
      },
      "execution_count": null,
      "outputs": []
    },
    {
      "cell_type": "code",
      "source": [
        "dataloaders = {\"train\" : train_loader,\n",
        "               \"val\" : validation_loader}"
      ],
      "metadata": {
        "id": "hQxK14BM0x1T"
      },
      "execution_count": null,
      "outputs": []
    },
    {
      "cell_type": "markdown",
      "source": [
        "# CNN"
      ],
      "metadata": {
        "id": "JBRSWOBPNeAk"
      }
    },
    {
      "cell_type": "code",
      "source": [
        "def create_model():\n",
        "    model = torchvision.models.resnet34(weights='ResNet34_Weights.DEFAULT')\n",
        "    model.conv1 = nn.Conv2d(1, 64, kernel_size=(7, 7), stride=(2, 2), padding=(3, 3), bias=False) \n",
        "    n_features = model.fc.in_features\n",
        "    \n",
        "    model.fc = nn.Sequential(\n",
        "        nn.Linear(n_features, 256),\n",
        "        nn.ReLU(),\n",
        "        nn.Linear(256, 128),\n",
        "        nn.ReLU(),\n",
        "      ##  nn.Linear(128, 10)\n",
        "        nn.Linear(128,120)\n",
        "    )\n",
        "    \n",
        "    return model.to(dml)"
      ],
      "metadata": {
        "id": "UXlZUPpA00Jl"
      },
      "execution_count": null,
      "outputs": []
    },
    {
      "cell_type": "code",
      "source": [
        "dml"
      ],
      "metadata": {
        "id": "LRfJZIZ_53mp"
      },
      "execution_count": null,
      "outputs": []
    },
    {
      "cell_type": "code",
      "source": [
        "base_model = create_model()\n",
        "base_model"
      ],
      "metadata": {
        "id": "uiuO5ja_01V-"
      },
      "execution_count": null,
      "outputs": []
    },
    {
      "cell_type": "code",
      "source": [
        "from torchsummary import summary\n",
        "summary(base_model,(1,28,28))"
      ],
      "metadata": {
        "id": "JIdD0SJi04mX"
      },
      "execution_count": null,
      "outputs": []
    },
    {
      "cell_type": "markdown",
      "source": [
        "# Model Train with CNN"
      ],
      "metadata": {
        "id": "g_59_yg7NiIH"
      }
    },
    {
      "cell_type": "code",
      "source": [
        "num_classes = 120\n",
        "num_epochs = 3\n",
        "learning_rate = 1e-4\n",
        "criterion = nn.CrossEntropyLoss()\n",
        "optimizer = torch.optim.SGD(base_model.parameters(), lr=learning_rate, momentum=0.9)"
      ],
      "metadata": {
        "id": "rB3-S9YX1dri"
      },
      "execution_count": null,
      "outputs": []
    },
    {
      "cell_type": "code",
      "source": [
        "validation_loss = []\n",
        "training_loss = []\n",
        "\n",
        "def train_model():\n",
        "    since = time.time()\n",
        "    val_acc_history = []\n",
        "    \n",
        "    best_model_wts = copy.deepcopy(base_model.state_dict())\n",
        "    best_acc = 0.0\n",
        "    \n",
        "    progress_bar_train = tqdm(range(num_epochs * len(train_loader)))\n",
        "    progress_bar_eval = tqdm(range(num_epochs * len(validation_loader)))\n",
        "    \n",
        "    for epoch in range(num_epochs):\n",
        "        print('Epoch {}/{}'.format(epoch, num_epochs - 1))\n",
        "        print('-' * 10)\n",
        "        \n",
        "        # Each epoch has a training and validation phase\n",
        "        for phase in dataloaders:\n",
        "            if phase == 'train':\n",
        "                base_model.train()  # Set model to training mode\n",
        "            else:\n",
        "                base_model.eval()   # Set model to evaluate mode\n",
        "                \n",
        "            running_loss = 0.0\n",
        "            running_corrects = 0\n",
        "\n",
        "            # Iterate over data.\n",
        "            for inputs, labels in dataloaders[phase]:\n",
        "                inputs = inputs.to(dml)\n",
        "                labels = labels.to(dml)\n",
        "                \n",
        "                # zero the parameter gradients\n",
        "                optimizer.zero_grad()\n",
        "                \n",
        "                with torch.set_grad_enabled(phase == 'train'): \n",
        "                    outputs = base_model(inputs)\n",
        "                    loss = criterion(outputs, labels)\n",
        "\n",
        "                    _, preds = torch.max(outputs, 1)\n",
        "\n",
        "                    # backward + optimize only if in training phase\n",
        "                    if phase == 'train':\n",
        "                        loss.backward()\n",
        "                        optimizer.step()\n",
        "                        progress_bar_train.update(1)\n",
        "                    elif phase == 'val':\n",
        "                        progress_bar_eval.update(1)\n",
        "                        \n",
        "                running_loss += loss.item() * inputs.size(0)\n",
        "                preds = preds.cpu()\n",
        "                labels = labels.data.cpu()\n",
        "                running_corrects += (preds == labels).sum()\n",
        "            \n",
        "            print(\"Lenght: \", len(dataloaders[phase].dataset))\n",
        "            epoch_loss = running_loss / len(dataloaders[phase].dataset)\n",
        "            epoch_acc = float(running_corrects) / len(dataloaders[phase].dataset)\n",
        "\n",
        "            print('{} Loss: {:.4f} Acc: {:.4f}'.format(phase, epoch_loss, epoch_acc))\n",
        "\n",
        "            if phase == 'train':\n",
        "              training_loss.append(epoch_loss)\n",
        "            elif phase == 'val':\n",
        "              validation_loss.append(epoch_loss)\n",
        "            \n",
        "            # deep copy the model\n",
        "            if phase == 'val' and epoch_acc > best_acc:\n",
        "                best_acc = epoch_acc\n",
        "                best_model_wts = copy.deepcopy(base_model.state_dict())\n",
        "            if phase == 'val':\n",
        "                val_acc_history.append(epoch_acc)\n",
        "\n",
        "        print()\n",
        "\n",
        "    time_elapsed = time.time() - since\n",
        "    print('Training complete in {:.0f}m {:.0f}s'.format(time_elapsed // 60, time_elapsed % 60))\n",
        "    print('Best val Acc: {:4f}'.format(best_acc))\n",
        "\n",
        "    # load best model weights\n",
        "    base_model.load_state_dict(best_model_wts)\n",
        "    return base_model, val_acc_history"
      ],
      "metadata": {
        "id": "kbY1BllL102G"
      },
      "execution_count": null,
      "outputs": []
    },
    {
      "cell_type": "code",
      "source": [
        "best_model, validation_acc_hist = train_model()"
      ],
      "metadata": {
        "id": "8q6PXa7d11y7",
        "colab": {
          "base_uri": "https://localhost:8080/",
          "height": 480,
          "referenced_widgets": [
            "164b7c9785aa470a9798e17d42e6bfef",
            "b166f718df744ee3a5e721551c56bd57",
            "7590bf2dc28e4a719afdf703a6cc6ef2",
            "85183a91741e416a82cff607bfdae880",
            "34cf3ca1f8fb4fefa8a3587c6c5434a6",
            "3de33adbd01e4b01bf3112fa36f72c1e",
            "cddb146dc69b4f018da68696254a0136",
            "a3adfd099cf142f78f98ccdc21137239",
            "45cb8995334844f3b786d2cc1b816bd9",
            "367f9884224443c886d6211b20de2cfc",
            "d6aafef468eb48d1ba60875ba307162a",
            "50796e37edf242c9a1e5578882b1b6f6",
            "c0bae74ca470494d848f385005b289c3",
            "53e23ba335a7487aa3aeab324a651318",
            "066810c5046e496b80e6fda3ec23266a",
            "2b46e98287964d4aa5f6d6264b73f77a",
            "b94f33dbab374d8c9d1fb4a71e960ef0",
            "f8975bd45e0c4472affca95c9b286da0",
            "2f659fbd48fb4fc99d9d4875b615fe93",
            "648f9063a10f480fbfe116b1753831b6",
            "dc773984613f4353a82fec777620af64",
            "50c3d730cf934629932b6aa4d6c4c29b"
          ]
        },
        "outputId": "afc124cb-fb47-480f-cbcc-f1826dc00cd7"
      },
      "execution_count": null,
      "outputs": [
        {
          "data": {
            "application/vnd.jupyter.widget-view+json": {
              "model_id": "164b7c9785aa470a9798e17d42e6bfef",
              "version_major": 2,
              "version_minor": 0
            },
            "text/plain": [
              "  0%|          | 0/95310 [00:00<?, ?it/s]"
            ]
          },
          "metadata": {},
          "output_type": "display_data"
        },
        {
          "data": {
            "application/vnd.jupyter.widget-view+json": {
              "model_id": "50796e37edf242c9a1e5578882b1b6f6",
              "version_major": 2,
              "version_minor": 0
            },
            "text/plain": [
              "  0%|          | 0/20424 [00:00<?, ?it/s]"
            ]
          },
          "metadata": {},
          "output_type": "display_data"
        },
        {
          "output_type": "stream",
          "name": "stdout",
          "text": [
            "Epoch 0/2\n",
            "----------\n",
            "Lenght:  254167\n",
            "train Loss: 2.0261 Acc: 0.5359\n",
            "Lenght:  54464\n",
            "val Loss: 0.3522 Acc: 0.9071\n",
            "\n",
            "Epoch 1/2\n",
            "----------\n",
            "Lenght:  254167\n",
            "train Loss: 0.4030 Acc: 0.8934\n",
            "Lenght:  54464\n",
            "val Loss: 0.2308 Acc: 0.9408\n",
            "\n",
            "Epoch 2/2\n",
            "----------\n",
            "Lenght:  254167\n",
            "train Loss: 0.2709 Acc: 0.9287\n",
            "Lenght:  54464\n",
            "val Loss: 0.2067 Acc: 0.9488\n",
            "\n",
            "Training complete in 53m 4s\n",
            "Best val Acc: 0.948792\n"
          ]
        }
      ]
    },
    {
      "cell_type": "code",
      "source": [
        "x = torch.linspace(0, num_epochs, num_epochs)\n",
        "plt.figure(figsize=(15,5))\n",
        "plt.plot(x, training_loss)\n",
        "plt.plot(x, validation_loss)\n",
        "plt.legend(['Training loss','Validation loss'])\n",
        "plt.xlabel(\"Epoch\")\n",
        "plt.ylabel(\"Train & validation loss\")\n",
        "plt.show()"
      ],
      "metadata": {
        "id": "_SMx6NZe1XtQ",
        "colab": {
          "base_uri": "https://localhost:8080/",
          "height": 417
        },
        "outputId": "32d59278-ca4a-45f4-ac7e-67ff47247793"
      },
      "execution_count": null,
      "outputs": [
        {
          "output_type": "display_data",
          "data": {
            "text/plain": [
              "<Figure size 1500x500 with 1 Axes>"
            ],
            "image/png": "[encoded data removed]"
          },
          "metadata": {}
        }
      ]
    },
    {
      "cell_type": "markdown",
      "source": [
        "# Model Save"
      ],
      "metadata": {
        "id": "3jhhvQrj_ILh"
      }
    },
    {
      "cell_type": "code",
      "source": [
        "cnnmodel = best_model"
      ],
      "metadata": {
        "id": "1PFj449o_ckl"
      },
      "execution_count": null,
      "outputs": []
    },
    {
      "cell_type": "code",
      "source": [
        "deitmodel = best_model\n",
        "#model_ft"
      ],
      "metadata": {
        "id": "K84DGwGEBsnX"
      },
      "execution_count": null,
      "outputs": []
    },
    {
      "cell_type": "code",
      "source": [
        "cnnmodel_path = '/content//content/cnnmodel_path'"
      ],
      "metadata": {
        "id": "kNrytDPV_KPM"
      },
      "execution_count": null,
      "outputs": []
    },
    {
      "cell_type": "code",
      "source": [
        "deitmodel_path = '/content//content/cnnmodel_path'"
      ],
      "metadata": {
        "id": "PjWYhrcv_2R4"
      },
      "execution_count": null,
      "outputs": []
    },
    {
      "cell_type": "code",
      "source": [
        "#torch.save(cnnmodel.state_dict(), cnnmodel_path)"
      ],
      "metadata": {
        "id": "McbUV0T__bNG"
      },
      "execution_count": null,
      "outputs": []
    },
    {
      "cell_type": "code",
      "source": [
        "#torch.save(deitmodel.state_dict(), deitmodel_path)"
      ],
      "metadata": {
        "id": "xWtQBuzqB1d8"
      },
      "execution_count": null,
      "outputs": []
    },
    {
      "cell_type": "markdown",
      "source": [
        "# Model Load"
      ],
      "metadata": {
        "id": "X617ObgJ_Kj9"
      }
    },
    {
      "cell_type": "markdown",
      "source": [
        "resnet34 load"
      ],
      "metadata": {
        "id": "Ip0MrXn2DpPr"
      }
    },
    {
      "cell_type": "code",
      "source": [
        "if torch.cuda.is_available():\n",
        "  best_model.load_state_dict(torch.load(cnnmodel_path))\n",
        "else:\n",
        "  best_model.load_state_dict(torch.load(cnnmodel_path, map_location=torch.device('cpu')))"
      ],
      "metadata": {
        "id": "ZRerkCNO_gsO",
        "colab": {
          "base_uri": "https://localhost:8080/",
          "height": 364
        },
        "outputId": "baf11b6f-a7a8-46f1-c7a4-f7c30a007243"
      },
      "execution_count": null,
      "outputs": [
        {
          "output_type": "error",
          "ename": "FileNotFoundError",
          "evalue": "ignored",
          "traceback": [
            "\u001b[0;31m---------------------------------------------------------------------------\u001b[0m",
            "\u001b[0;31mFileNotFoundError\u001b[0m                         Traceback (most recent call last)",
            "\u001b[0;32m<ipython-input-66-6f61360a2ba4>\u001b[0m in \u001b[0;36m<cell line: 1>\u001b[0;34m()\u001b[0m\n\u001b[1;32m      1\u001b[0m \u001b[0;32mif\u001b[0m \u001b[0mtorch\u001b[0m\u001b[0;34m.\u001b[0m\u001b[0mcuda\u001b[0m\u001b[0;34m.\u001b[0m\u001b[0mis_available\u001b[0m\u001b[0;34m(\u001b[0m\u001b[0;34m)\u001b[0m\u001b[0;34m:\u001b[0m\u001b[0;34m\u001b[0m\u001b[0;34m\u001b[0m\u001b[0m\n\u001b[0;32m----> 2\u001b[0;31m   \u001b[0mbest_model\u001b[0m\u001b[0;34m.\u001b[0m\u001b[0mload_state_dict\u001b[0m\u001b[0;34m(\u001b[0m\u001b[0mtorch\u001b[0m\u001b[0;34m.\u001b[0m\u001b[0mload\u001b[0m\u001b[0;34m(\u001b[0m\u001b[0mcnnmodel_path\u001b[0m\u001b[0;34m)\u001b[0m\u001b[0;34m)\u001b[0m\u001b[0;34m\u001b[0m\u001b[0;34m\u001b[0m\u001b[0m\n\u001b[0m\u001b[1;32m      3\u001b[0m \u001b[0;32melse\u001b[0m\u001b[0;34m:\u001b[0m\u001b[0;34m\u001b[0m\u001b[0;34m\u001b[0m\u001b[0m\n\u001b[1;32m      4\u001b[0m   \u001b[0mbest_model\u001b[0m\u001b[0;34m.\u001b[0m\u001b[0mload_state_dict\u001b[0m\u001b[0;34m(\u001b[0m\u001b[0mtorch\u001b[0m\u001b[0;34m.\u001b[0m\u001b[0mload\u001b[0m\u001b[0;34m(\u001b[0m\u001b[0mcnnmodel_path\u001b[0m\u001b[0;34m,\u001b[0m \u001b[0mmap_location\u001b[0m\u001b[0;34m=\u001b[0m\u001b[0mtorch\u001b[0m\u001b[0;34m.\u001b[0m\u001b[0mdevice\u001b[0m\u001b[0;34m(\u001b[0m\u001b[0;34m'cpu'\u001b[0m\u001b[0;34m)\u001b[0m\u001b[0;34m)\u001b[0m\u001b[0;34m)\u001b[0m\u001b[0;34m\u001b[0m\u001b[0;34m\u001b[0m\u001b[0m\n",
            "\u001b[0;32m/usr/local/lib/python3.9/dist-packages/torch/serialization.py\u001b[0m in \u001b[0;36mload\u001b[0;34m(f, map_location, pickle_module, weights_only, **pickle_load_args)\u001b[0m\n\u001b[1;32m    789\u001b[0m         \u001b[0mpickle_load_args\u001b[0m\u001b[0;34m[\u001b[0m\u001b[0;34m'encoding'\u001b[0m\u001b[0;34m]\u001b[0m \u001b[0;34m=\u001b[0m \u001b[0;34m'utf-8'\u001b[0m\u001b[0;34m\u001b[0m\u001b[0;34m\u001b[0m\u001b[0m\n\u001b[1;32m    790\u001b[0m \u001b[0;34m\u001b[0m\u001b[0m\n\u001b[0;32m--> 791\u001b[0;31m     \u001b[0;32mwith\u001b[0m \u001b[0m_open_file_like\u001b[0m\u001b[0;34m(\u001b[0m\u001b[0mf\u001b[0m\u001b[0;34m,\u001b[0m \u001b[0;34m'rb'\u001b[0m\u001b[0;34m)\u001b[0m \u001b[0;32mas\u001b[0m \u001b[0mopened_file\u001b[0m\u001b[0;34m:\u001b[0m\u001b[0;34m\u001b[0m\u001b[0;34m\u001b[0m\u001b[0m\n\u001b[0m\u001b[1;32m    792\u001b[0m         \u001b[0;32mif\u001b[0m \u001b[0m_is_zipfile\u001b[0m\u001b[0;34m(\u001b[0m\u001b[0mopened_file\u001b[0m\u001b[0;34m)\u001b[0m\u001b[0;34m:\u001b[0m\u001b[0;34m\u001b[0m\u001b[0;34m\u001b[0m\u001b[0m\n\u001b[1;32m    793\u001b[0m             \u001b[0;31m# The zipfile reader is going to advance the current file position.\u001b[0m\u001b[0;34m\u001b[0m\u001b[0;34m\u001b[0m\u001b[0m\n",
            "\u001b[0;32m/usr/local/lib/python3.9/dist-packages/torch/serialization.py\u001b[0m in \u001b[0;36m_open_file_like\u001b[0;34m(name_or_buffer, mode)\u001b[0m\n\u001b[1;32m    269\u001b[0m \u001b[0;32mdef\u001b[0m \u001b[0m_open_file_like\u001b[0m\u001b[0;34m(\u001b[0m\u001b[0mname_or_buffer\u001b[0m\u001b[0;34m,\u001b[0m \u001b[0mmode\u001b[0m\u001b[0;34m)\u001b[0m\u001b[0;34m:\u001b[0m\u001b[0;34m\u001b[0m\u001b[0;34m\u001b[0m\u001b[0m\n\u001b[1;32m    270\u001b[0m     \u001b[0;32mif\u001b[0m \u001b[0m_is_path\u001b[0m\u001b[0;34m(\u001b[0m\u001b[0mname_or_buffer\u001b[0m\u001b[0;34m)\u001b[0m\u001b[0;34m:\u001b[0m\u001b[0;34m\u001b[0m\u001b[0;34m\u001b[0m\u001b[0m\n\u001b[0;32m--> 271\u001b[0;31m         \u001b[0;32mreturn\u001b[0m \u001b[0m_open_file\u001b[0m\u001b[0;34m(\u001b[0m\u001b[0mname_or_buffer\u001b[0m\u001b[0;34m,\u001b[0m \u001b[0mmode\u001b[0m\u001b[0;34m)\u001b[0m\u001b[0;34m\u001b[0m\u001b[0;34m\u001b[0m\u001b[0m\n\u001b[0m\u001b[1;32m    272\u001b[0m     \u001b[0;32melse\u001b[0m\u001b[0;34m:\u001b[0m\u001b[0;34m\u001b[0m\u001b[0;34m\u001b[0m\u001b[0m\n\u001b[1;32m    273\u001b[0m         \u001b[0;32mif\u001b[0m \u001b[0;34m'w'\u001b[0m \u001b[0;32min\u001b[0m \u001b[0mmode\u001b[0m\u001b[0;34m:\u001b[0m\u001b[0;34m\u001b[0m\u001b[0;34m\u001b[0m\u001b[0m\n",
            "\u001b[0;32m/usr/local/lib/python3.9/dist-packages/torch/serialization.py\u001b[0m in \u001b[0;36m__init__\u001b[0;34m(self, name, mode)\u001b[0m\n\u001b[1;32m    250\u001b[0m \u001b[0;32mclass\u001b[0m \u001b[0m_open_file\u001b[0m\u001b[0;34m(\u001b[0m\u001b[0m_opener\u001b[0m\u001b[0;34m)\u001b[0m\u001b[0;34m:\u001b[0m\u001b[0;34m\u001b[0m\u001b[0;34m\u001b[0m\u001b[0m\n\u001b[1;32m    251\u001b[0m     \u001b[0;32mdef\u001b[0m \u001b[0m__init__\u001b[0m\u001b[0;34m(\u001b[0m\u001b[0mself\u001b[0m\u001b[0;34m,\u001b[0m \u001b[0mname\u001b[0m\u001b[0;34m,\u001b[0m \u001b[0mmode\u001b[0m\u001b[0;34m)\u001b[0m\u001b[0;34m:\u001b[0m\u001b[0;34m\u001b[0m\u001b[0;34m\u001b[0m\u001b[0m\n\u001b[0;32m--> 252\u001b[0;31m         \u001b[0msuper\u001b[0m\u001b[0;34m(\u001b[0m\u001b[0;34m)\u001b[0m\u001b[0;34m.\u001b[0m\u001b[0m__init__\u001b[0m\u001b[0;34m(\u001b[0m\u001b[0mopen\u001b[0m\u001b[0;34m(\u001b[0m\u001b[0mname\u001b[0m\u001b[0;34m,\u001b[0m \u001b[0mmode\u001b[0m\u001b[0;34m)\u001b[0m\u001b[0;34m)\u001b[0m\u001b[0;34m\u001b[0m\u001b[0;34m\u001b[0m\u001b[0m\n\u001b[0m\u001b[1;32m    253\u001b[0m \u001b[0;34m\u001b[0m\u001b[0m\n\u001b[1;32m    254\u001b[0m     \u001b[0;32mdef\u001b[0m \u001b[0m__exit__\u001b[0m\u001b[0;34m(\u001b[0m\u001b[0mself\u001b[0m\u001b[0;34m,\u001b[0m \u001b[0;34m*\u001b[0m\u001b[0margs\u001b[0m\u001b[0;34m)\u001b[0m\u001b[0;34m:\u001b[0m\u001b[0;34m\u001b[0m\u001b[0;34m\u001b[0m\u001b[0m\n",
            "\u001b[0;31mFileNotFoundError\u001b[0m: [Errno 2] No such file or directory: '/content//content/cnnmodel_path'"
          ]
        }
      ]
    },
    {
      "cell_type": "markdown",
      "source": [
        "transformer laod"
      ],
      "metadata": {
        "id": "EDWIJs6-Dqpz"
      }
    },
    {
      "cell_type": "code",
      "source": [
        "if torch.cuda.is_available():\n",
        "  model_ft.load_state_dict(torch.load(deitmodel_path))\n",
        "else:\n",
        "  model_ft.load_state_dict(torch.load(deitmodel_path, map_location=torch.device('cpu')))"
      ],
      "metadata": {
        "id": "8-0x5W8FDc2s"
      },
      "execution_count": null,
      "outputs": []
    },
    {
      "cell_type": "markdown",
      "source": [
        "# Model test with resnet"
      ],
      "metadata": {
        "id": "WT8iHR2-NmbO"
      }
    },
    {
      "cell_type": "code",
      "source": [
        "def get_predictions():\n",
        "    best_model.eval()\n",
        "    predictions = []\n",
        "    real_values = []\n",
        "    with torch.no_grad():\n",
        "        for images, labels in test_loader:\n",
        "            images = images.to(dml)\n",
        "            labels = labels.to(dml)\n",
        "            \n",
        "            outputs = best_model(images)\n",
        "            \n",
        "            _, preds = torch.max(outputs, dim = 1)\n",
        "            preds = preds.cpu()\n",
        "            labels = labels.cpu()\n",
        "            predictions.extend(preds)\n",
        "            real_values.extend(labels)\n",
        "            \n",
        "    return predictions, real_values"
      ],
      "metadata": {
        "id": "bmIap1He2Mz6"
      },
      "execution_count": null,
      "outputs": []
    },
    {
      "cell_type": "code",
      "source": [
        "from sklearn.metrics import multilabel_confusion_matrix,confusion_matrix"
      ],
      "metadata": {
        "id": "Bo0qe8oi839A"
      },
      "execution_count": null,
      "outputs": []
    },
    {
      "cell_type": "code",
      "source": [
        "pred, real = get_predictions()\n",
        "print('Result form resnet')\n",
        "print(classification_report([y_actual.item() for y_actual in real], [y_pred.item() for y_pred in pred],digits=6))"
      ],
      "metadata": {
        "id": "ySb9J3fZ2MvS"
      },
      "execution_count": null,
      "outputs": []
    },
    {
      "cell_type": "code",
      "source": [
        "def score_in_details(y_pred,y_real):\n",
        "  accuracy = recall_score(y_real, y_pred, average='weighted')\n",
        "  precision = precision_score(y_real, y_pred, average='weighted')\n",
        "  recall = recall_score(y_real, y_pred, average='weighted')\n",
        "  f1 = f1_score(y_real, y_pred, average='weighted')\n",
        "\n",
        "  print(f\"Accuracy: {accuracy * 100}%\")\n",
        "  print(f\"Precision: {precision * 100}%\")\n",
        "  print(f\"Recall: {recall * 100}%\")\n",
        "  print(f\"F1-score: {f1 * 100}%\")\n",
        "  \n",
        "  print()\n",
        "  print()\n",
        "\n",
        "  conf_matrix = confusion_matrix(y_real, y_pred)\n",
        "  fig, ax = plt.subplots(figsize=(15,15))\n",
        "  sns.heatmap(pd.DataFrame(conf_matrix), annot = True, cmap = 'YlGnBu',fmt = 'g', xticklabels=[0, 1,2,3,4,5,6,7,8,9], yticklabels=[0, 1,2,3,4,5,6,7,8,9])\n",
        "  plt.title('Confusion matrix', fontsize=20)\n",
        "  plt.ylabel('Actual label', fontsize=20)\n",
        "  plt.xlabel('Predicted label', fontsize=20)\n",
        "  plt.show()"
      ],
      "metadata": {
        "id": "vhSSRH7I86EK"
      },
      "execution_count": null,
      "outputs": []
    },
    {
      "cell_type": "code",
      "source": [
        "print('Result form resnet')\n",
        "score_in_details([y_actual.item() for y_actual in real], [y_pred.item() for y_pred in pred])"
      ],
      "metadata": {
        "id": "JDUoXRXm88Mi"
      },
      "execution_count": null,
      "outputs": []
    },
    {
      "cell_type": "code",
      "source": [
        "multilabel_confusion_matrix(real, pred)"
      ],
      "metadata": {
        "id": "fFtA3DrH89N8"
      },
      "execution_count": null,
      "outputs": []
    },
    {
      "cell_type": "markdown",
      "source": [
        "# Model test with transformer"
      ],
      "metadata": {
        "id": "iId08yqCDHgP"
      }
    },
    {
      "cell_type": "code",
      "source": [
        "#best_model = model_ft"
      ],
      "metadata": {
        "id": "JMslFKLADxJJ"
      },
      "execution_count": null,
      "outputs": []
    },
    {
      "cell_type": "code",
      "source": [
        "def get_predictions():\n",
        "    best_model.eval()\n",
        "    predictions = []\n",
        "    real_values = []\n",
        "    with torch.no_grad():\n",
        "        for images, labels in test_loader:\n",
        "            images = images.to(dml)\n",
        "            labels = labels.to(dml)\n",
        "            \n",
        "            outputs = best_model(images)\n",
        "            \n",
        "            _, preds = torch.max(outputs, dim = 1)\n",
        "            preds = preds.cpu()\n",
        "            labels = labels.cpu()\n",
        "            predictions.extend(preds)\n",
        "            real_values.extend(labels)\n",
        "            \n",
        "    return predictions, real_values"
      ],
      "metadata": {
        "id": "YY9Y0b6PDHgQ"
      },
      "execution_count": null,
      "outputs": []
    },
    {
      "cell_type": "code",
      "source": [
        "from sklearn.metrics import multilabel_confusion_matrix,confusion_matrix"
      ],
      "metadata": {
        "id": "WdeX-lo3DHgQ"
      },
      "execution_count": null,
      "outputs": []
    },
    {
      "cell_type": "code",
      "source": [
        "pred, real = get_predictions()\n",
        "print('Result form DEiT')\n",
        "print(classification_report([y_actual.item() for y_actual in real], [y_pred.item() for y_pred in pred],digits=6))"
      ],
      "metadata": {
        "id": "EQqGomRxDHgQ"
      },
      "execution_count": null,
      "outputs": []
    },
    {
      "cell_type": "code",
      "source": [
        "def score_in_details(y_pred,y_real):\n",
        "  accuracy = recall_score(y_real, y_pred, average='weighted')\n",
        "  precision = precision_score(y_real, y_pred, average='weighted')\n",
        "  recall = recall_score(y_real, y_pred, average='weighted')\n",
        "  f1 = f1_score(y_real, y_pred, average='weighted')\n",
        "\n",
        "  print(f\"Accuracy: {accuracy * 100}%\")\n",
        "  print(f\"Precision: {precision * 100}%\")\n",
        "  print(f\"Recall: {recall * 100}%\")\n",
        "  print(f\"F1-score: {f1 * 100}%\")\n",
        "  \n",
        "  print()\n",
        "  print()\n",
        "\n",
        "  conf_matrix = confusion_matrix(y_real, y_pred)\n",
        "  fig, ax = plt.subplots(figsize=(15,15))\n",
        "  sns.heatmap(pd.DataFrame(conf_matrix), annot = True, cmap = 'YlGnBu',fmt = 'g', xticklabels=[0, 1,2,3,4,5,6,7,8,9], yticklabels=[0, 1,2,3,4,5,6,7,8,9])\n",
        "  plt.title('Confusion matrix', fontsize=20)\n",
        "  plt.ylabel('Actual label', fontsize=20)\n",
        "  plt.xlabel('Predicted label', fontsize=20)\n",
        "  plt.show()"
      ],
      "metadata": {
        "id": "Ft1zaUciDHgQ"
      },
      "execution_count": null,
      "outputs": []
    },
    {
      "cell_type": "code",
      "source": [
        "print('Result from Transfer')\n",
        "score_in_details([y_actual.item() for y_actual in real], [y_pred.item() for y_pred in pred])"
      ],
      "metadata": {
        "id": "yhsXApUpDHgQ"
      },
      "execution_count": null,
      "outputs": []
    },
    {
      "cell_type": "code",
      "source": [
        "multilabel_confusion_matrix(real, pred)"
      ],
      "metadata": {
        "id": "csapE-F7DHgR"
      },
      "execution_count": null,
      "outputs": []
    },
    {
      "cell_type": "markdown",
      "source": [
        "# Lime"
      ],
      "metadata": {
        "id": "gxbZ_iP0fz8b"
      }
    },
    {
      "cell_type": "code",
      "source": [
        "!pip install lime"
      ],
      "metadata": {
        "id": "A6NJBJthf8Tp"
      },
      "execution_count": null,
      "outputs": []
    },
    {
      "cell_type": "code",
      "source": [
        "from lime import lime_image\n",
        "import lime.lime_tabular"
      ],
      "metadata": {
        "id": "JzH-vzIYf1M6"
      },
      "execution_count": null,
      "outputs": []
    },
    {
      "cell_type": "code",
      "source": [
        "for images, label in test_loader:\n",
        "    break\n",
        "images.size()"
      ],
      "metadata": {
        "id": "CRVuMmBDhWMS"
      },
      "execution_count": null,
      "outputs": []
    },
    {
      "cell_type": "code",
      "source": [
        "img = test[131][0]\n",
        "img.size()"
      ],
      "metadata": {
        "id": "CDgB23nfhkhJ"
      },
      "execution_count": null,
      "outputs": []
    },
    {
      "cell_type": "code",
      "source": [
        "\n",
        "plt.imshow(img[0,:,:],cmap='gray')\n",
        "print(test[131][1])"
      ],
      "metadata": {
        "id": "_9AFTtwjgkhc"
      },
      "execution_count": null,
      "outputs": []
    },
    {
      "cell_type": "code",
      "source": [
        "best_model.eval()\n",
        "logits = best_model(images.to(dml))"
      ],
      "metadata": {
        "id": "EWEFv7uogsak"
      },
      "execution_count": null,
      "outputs": []
    },
    {
      "cell_type": "code",
      "source": [
        "idx2label = [0,1,2,3,4,5,6,7,8,9]"
      ],
      "metadata": {
        "id": "az9jAof0iUil"
      },
      "execution_count": null,
      "outputs": []
    },
    {
      "cell_type": "code",
      "source": [
        "#probs = torch.softmax(logits, dim=1)\n",
        "#probs5 = probs.topk(10)\n",
        "#tuple((p,c, idx2label[c]) for p, c in zip(probs5[0][0].detach().cpu().numpy(), probs5[1][0].detach().cpu().numpy()))"
      ],
      "metadata": {
        "id": "tFLLuqqyhzXy"
      },
      "execution_count": null,
      "outputs": []
    },
    {
      "cell_type": "code",
      "source": [
        "def batch_predict(images):\n",
        "    model.eval()\n",
        "    batch = torch.stack(tuple(i for i in images), dim=0)\n",
        "\n",
        "    device = torch.device(\"cuda\" if torch.cuda.is_available() else \"cpu\")\n",
        "    model.to(device)\n",
        "    batch = batch.to(device)\n",
        "    \n",
        "    logits = model(batch)\n",
        "    probs = F.softmax(logits, dim=1)\n",
        "    return probs.detach().cpu().numpy()"
      ],
      "metadata": {
        "id": "PR0Ylc4Ljo4n"
      },
      "execution_count": null,
      "outputs": []
    },
    {
      "cell_type": "code",
      "source": [
        "#test_pred = batch_predict(images)\n",
        "#test_pred = test_pred.squeeze().argmax()"
      ],
      "metadata": {
        "id": "tSs-jOiOj39Q"
      },
      "execution_count": null,
      "outputs": []
    },
    {
      "cell_type": "code",
      "source": [
        "explainer = lime_image.LimeImageExplainer()"
      ],
      "metadata": {
        "id": "UO6tQDuGkRoG"
      },
      "execution_count": null,
      "outputs": []
    },
    {
      "cell_type": "code",
      "source": [
        "#exp = explainer.explain_instance(images, \n",
        "                                 batch_predict, \n",
        "                                 top_labels=5, \n",
        "                                 hide_color=0, \n",
        "                                 num_samples=1000)"
      ],
      "metadata": {
        "id": "KeURd5yppYZx"
      },
      "execution_count": null,
      "outputs": []
    },
    {
      "cell_type": "code",
      "source": [
        "print(lime_image.LimeImageExplainer())"
      ],
      "metadata": {
        "id": "F_VE-pLkkTwz"
      },
      "execution_count": null,
      "outputs": []
    },
    {
      "cell_type": "code",
      "source": [
        "images.size()"
      ],
      "metadata": {
        "id": "ixg34wbumI7F"
      },
      "execution_count": null,
      "outputs": []
    },
    {
      "cell_type": "code",
      "source": [
        "img.unsqueeze_(-1)"
      ],
      "metadata": {
        "id": "vgvmBFMqmejH"
      },
      "execution_count": null,
      "outputs": []
    },
    {
      "cell_type": "code",
      "source": [
        "#img = images[0].expand(3,224,224)"
      ],
      "metadata": {
        "id": "kNpLTgn4mqAu"
      },
      "execution_count": null,
      "outputs": []
    },
    {
      "cell_type": "code",
      "source": [
        "img = img.permute(1,2,0)\n",
        "img.size()"
      ],
      "metadata": {
        "id": "QXr8lWD6nG_l"
      },
      "execution_count": null,
      "outputs": []
    },
    {
      "cell_type": "code",
      "source": [
        "#img = img.type('torch.DoubleTensor') "
      ],
      "metadata": {
        "id": "Wm0E4Du8nspG"
      },
      "execution_count": null,
      "outputs": []
    },
    {
      "cell_type": "code",
      "source": [
        "img.dtype"
      ],
      "metadata": {
        "id": "de0_tTEgoFxa"
      },
      "execution_count": null,
      "outputs": []
    },
    {
      "cell_type": "code",
      "source": [
        "#explanation = explainer.explain_instance(np.array(img), \n",
        "                                         batch_predict, # classification function\n",
        "                                         top_labels=10, \n",
        "                                         num_samples=1)"
      ],
      "metadata": {
        "id": "j_Sp1KxKgAtQ"
      },
      "execution_count": null,
      "outputs": []
    },
    {
      "cell_type": "code",
      "source": [
        "from skimage.segmentation import mark_boundaries"
      ],
      "metadata": {
        "id": "iEqU3nAbgM_N"
      },
      "execution_count": null,
      "outputs": []
    },
    {
      "cell_type": "code",
      "source": [
        "temp, mask = explanation.get_image_and_mask(explanation.top_labels[0], positive_only=True, num_features=5, hide_rest=False)\n",
        "img_boundry1 = mark_boundaries(temp/255.0, mask)\n",
        "plt.imshow(img_boundry1)"
      ],
      "metadata": {
        "id": "RHIhkikVgOn-"
      },
      "execution_count": null,
      "outputs": []
    },
    {
      "cell_type": "code",
      "source": [
        "temp, mask = explanation.get_image_and_mask(explanation.top_labels[0], positive_only=False, num_features=10, hide_rest=False)\n",
        "img_boundry2 = mark_boundaries(temp/255.0, mask)\n",
        "plt.imshow(img_boundry2)"
      ],
      "metadata": {
        "id": "-vRu7Ms5gRf6"
      },
      "execution_count": null,
      "outputs": []
    }
  ]
}